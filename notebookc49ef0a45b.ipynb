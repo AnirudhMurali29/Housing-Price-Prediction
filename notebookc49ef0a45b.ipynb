{
 "cells": [
  {
   "cell_type": "code",
   "execution_count": 1,
   "id": "dd4a3b1c",
   "metadata": {
    "_cell_guid": "b1076dfc-b9ad-4769-8c92-a6c4dae69d19",
    "_uuid": "8f2839f25d086af736a60e9eeb907d3b93b6e0e5",
    "execution": {
     "iopub.execute_input": "2021-07-19T01:34:20.802811Z",
     "iopub.status.busy": "2021-07-19T01:34:20.802106Z",
     "iopub.status.idle": "2021-07-19T01:34:20.812562Z",
     "shell.execute_reply": "2021-07-19T01:34:20.811832Z",
     "shell.execute_reply.started": "2021-07-19T01:33:36.211994Z"
    },
    "papermill": {
     "duration": 0.0263,
     "end_time": "2021-07-19T01:34:20.812755",
     "exception": false,
     "start_time": "2021-07-19T01:34:20.786455",
     "status": "completed"
    },
    "tags": []
   },
   "outputs": [
    {
     "name": "stdout",
     "output_type": "stream",
     "text": [
      "/kaggle/input/home-data-for-ml-course/sample_submission.csv\n",
      "/kaggle/input/home-data-for-ml-course/sample_submission.csv.gz\n",
      "/kaggle/input/home-data-for-ml-course/train.csv.gz\n",
      "/kaggle/input/home-data-for-ml-course/data_description.txt\n",
      "/kaggle/input/home-data-for-ml-course/test.csv.gz\n",
      "/kaggle/input/home-data-for-ml-course/train.csv\n",
      "/kaggle/input/home-data-for-ml-course/test.csv\n"
     ]
    }
   ],
   "source": [
    "# This Python 3 environment comes with many helpful analytics libraries installed\n",
    "# It is defined by the kaggle/python Docker image: https://github.com/kaggle/docker-python\n",
    "# For example, here's several helpful packages to load\n",
    "\n",
    "import numpy as np # linear algebra\n",
    "import pandas as pd # data processing, CSV file I/O (e.g. pd.read_csv)\n",
    "\n",
    "# Input data files are available in the read-only \"../input/\" directory\n",
    "# For example, running this (by clicking run or pressing Shift+Enter) will list all files under the input directory\n",
    "\n",
    "import os\n",
    "for dirname, _, filenames in os.walk('/kaggle/input'):\n",
    "    for filename in filenames:\n",
    "        print(os.path.join(dirname, filename))\n",
    "\n",
    "# You can write up to 20GB to the current directory (/kaggle/working/) that gets preserved as output when you create a version using \"Save & Run All\" \n",
    "# You can also write temporary files to /kaggle/temp/, but they won't be saved outside of the current session"
   ]
  },
  {
   "cell_type": "code",
   "execution_count": 2,
   "id": "c1c4670f",
   "metadata": {
    "execution": {
     "iopub.execute_input": "2021-07-19T01:34:20.829568Z",
     "iopub.status.busy": "2021-07-19T01:34:20.828921Z",
     "iopub.status.idle": "2021-07-19T01:34:22.520566Z",
     "shell.execute_reply": "2021-07-19T01:34:22.520044Z",
     "shell.execute_reply.started": "2021-07-19T01:33:36.223987Z"
    },
    "papermill": {
     "duration": 1.702271,
     "end_time": "2021-07-19T01:34:22.520710",
     "exception": false,
     "start_time": "2021-07-19T01:34:20.818439",
     "status": "completed"
    },
    "tags": []
   },
   "outputs": [],
   "source": [
    "import pandas as pd\n",
    "import numpy as np\n",
    "import matplotlib.pyplot as plt\n",
    "import seaborn as sns\n",
    "from scipy.stats import norm\n",
    "from scipy import stats\n",
    "import warnings\n",
    "\n",
    "\n",
    "\n",
    "from sklearn.model_selection import train_test_split\n",
    "from sklearn.preprocessing import OneHotEncoder\n",
    "from sklearn.tree import DecisionTreeRegressor\n",
    "from sklearn.impute import SimpleImputer\n",
    "from xgboost import XGBRegressor\n",
    "from sklearn.compose import ColumnTransformer\n",
    "from sklearn.pipeline import Pipeline\n",
    "from sklearn.metrics import mean_absolute_error\n"
   ]
  },
  {
   "cell_type": "code",
   "execution_count": 3,
   "id": "bc1f9734",
   "metadata": {
    "execution": {
     "iopub.execute_input": "2021-07-19T01:34:22.535799Z",
     "iopub.status.busy": "2021-07-19T01:34:22.535177Z",
     "iopub.status.idle": "2021-07-19T01:34:22.604082Z",
     "shell.execute_reply": "2021-07-19T01:34:22.603330Z",
     "shell.execute_reply.started": "2021-07-19T01:33:36.236139Z"
    },
    "papermill": {
     "duration": 0.078557,
     "end_time": "2021-07-19T01:34:22.604237",
     "exception": false,
     "start_time": "2021-07-19T01:34:22.525680",
     "status": "completed"
    },
    "tags": []
   },
   "outputs": [],
   "source": [
    "iowa_file_path = '../input/home-data-for-ml-course/train.csv'\n",
    "home_data = pd.read_csv(iowa_file_path)\n",
    "\n",
    "test_file_path = '../input/home-data-for-ml-course/test.csv'\n",
    "test_data = pd.read_csv(test_file_path)"
   ]
  },
  {
   "cell_type": "code",
   "execution_count": 4,
   "id": "101322f2",
   "metadata": {
    "execution": {
     "iopub.execute_input": "2021-07-19T01:34:22.623605Z",
     "iopub.status.busy": "2021-07-19T01:34:22.622858Z",
     "iopub.status.idle": "2021-07-19T01:34:22.659012Z",
     "shell.execute_reply": "2021-07-19T01:34:22.658423Z",
     "shell.execute_reply.started": "2021-07-19T01:33:36.295942Z"
    },
    "papermill": {
     "duration": 0.049946,
     "end_time": "2021-07-19T01:34:22.659184",
     "exception": false,
     "start_time": "2021-07-19T01:34:22.609238",
     "status": "completed"
    },
    "tags": []
   },
   "outputs": [],
   "source": [
    "num_features = ['LotArea', 'YearBuilt', '1stFlrSF', '2ndFlrSF', 'FullBath', \\\n",
    "            'BedroomAbvGr', 'TotRmsAbvGrd', 'YearRemodAdd', 'OverallCond', \\\n",
    "            'OverallQual', 'BsmtFinSF1', 'GarageCars', 'HalfBath','GrLivArea', \\\n",
    "            'TotalBsmtSF', 'BsmtFinSF2', 'BsmtFullBath', 'Fireplaces', 'PoolArea']\n",
    "\n",
    "cat_features = ['BldgType', 'CentralAir', 'BsmtQual', 'Street', 'MSZoning', \\\n",
    "                'BsmtExposure','FireplaceQu','PavedDrive','Neighborhood', \\\n",
    "               'GarageType', 'LotConfig']\n",
    "all_features = num_features + cat_features\n",
    "X = home_data.copy()[all_features]\n",
    "y = home_data.SalePrice\n",
    "train_X, val_X, train_y, val_y = train_test_split(X, y, random_state=1)\n",
    "\n",
    "test_X = test_data.copy()[all_features]\n",
    "\n",
    "train_X, val_X, train_y, val_y = train_test_split(X, y, random_state=1)\n",
    "\n",
    "test_X = test_data.copy()[all_features]\n",
    "\n",
    "numerical_cols = [cname for cname in train_X.columns if \n",
    "                                train_X[cname].dtype in ['int64', 'float64']]\n",
    "\n",
    "categorical_cols = [cname for cname in train_X.columns if \n",
    "                                train_X[cname].nunique() < 30 and\n",
    "                                train_X[cname].dtype == \"object\"]\n",
    "\n",
    "numerical_transformer = SimpleImputer(strategy='constant')\n",
    "\n",
    "\n",
    "categorical_transformer = Pipeline(steps=[\n",
    "    ('imputer', SimpleImputer(strategy='constant')),\n",
    "    ('onehot', OneHotEncoder(handle_unknown='ignore'))\n",
    "])\n",
    "\n",
    "\n",
    "preprocessor = ColumnTransformer(\n",
    "    transformers=[\n",
    "        ('num', numerical_transformer, numerical_cols),\n",
    "        ('cat', categorical_transformer, categorical_cols)\n",
    "    ])\n"
   ]
  },
  {
   "cell_type": "code",
   "execution_count": 5,
   "id": "b4ff3b80",
   "metadata": {
    "execution": {
     "iopub.execute_input": "2021-07-19T01:34:22.685358Z",
     "iopub.status.busy": "2021-07-19T01:34:22.684715Z",
     "iopub.status.idle": "2021-07-19T01:34:29.047259Z",
     "shell.execute_reply": "2021-07-19T01:34:29.046391Z",
     "shell.execute_reply.started": "2021-07-19T01:33:36.329613Z"
    },
    "papermill": {
     "duration": 6.382839,
     "end_time": "2021-07-19T01:34:29.047466",
     "exception": false,
     "start_time": "2021-07-19T01:34:22.664627",
     "status": "completed"
    },
    "tags": []
   },
   "outputs": [
    {
     "name": "stdout",
     "output_type": "stream",
     "text": [
      "Mean Absolute Error: 14280.16584974315\n"
     ]
    }
   ],
   "source": [
    "model = XGBRegressor(n_estimators=2000,learning_rate=0.01)\n",
    "\n",
    "clf = Pipeline(steps=[('preprocessor', preprocessor),\n",
    "                      ('model', model)\n",
    "                     ])\n",
    "\n",
    "clf.fit(train_X, train_y)\n",
    "\n",
    "preds = clf.predict(val_X)\n",
    "mae = mean_absolute_error(preds,val_y)\n",
    "print(\"Mean Absolute Error:\" , mae)\n",
    "\n",
    "preds_test = clf.predict(test_X)\n",
    "\n",
    "#output = pd.DataFrame({'Id': test_X.index,\n",
    " #                      'SalePrice': preds_test})\n",
    "#output.to_csv('submission.csv', index=False)\n",
    "\n",
    "sample_submission = pd.read_csv('../input/home-data-for-ml-course/sample_submission.csv')\n",
    "\n",
    "output = pd.DataFrame({'Id': sample_submission.Id,\n",
    "'SalePrice': preds_test})\n",
    "output.to_csv('submission.csv', index=False)\n",
    "\n",
    "\n"
   ]
  }
 ],
 "metadata": {
  "kernelspec": {
   "display_name": "Python 3",
   "language": "python",
   "name": "python3"
  },
  "language_info": {
   "codemirror_mode": {
    "name": "ipython",
    "version": 3
   },
   "file_extension": ".py",
   "mimetype": "text/x-python",
   "name": "python",
   "nbconvert_exporter": "python",
   "pygments_lexer": "ipython3",
   "version": "3.7.10"
  },
  "papermill": {
   "default_parameters": {},
   "duration": 17.895037,
   "end_time": "2021-07-19T01:34:30.316526",
   "environment_variables": {},
   "exception": null,
   "input_path": "__notebook__.ipynb",
   "output_path": "__notebook__.ipynb",
   "parameters": {},
   "start_time": "2021-07-19T01:34:12.421489",
   "version": "2.3.3"
  }
 },
 "nbformat": 4,
 "nbformat_minor": 5
}
